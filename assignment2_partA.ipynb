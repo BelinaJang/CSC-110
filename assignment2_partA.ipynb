{
 "cells": [
  {
   "cell_type": "markdown",
   "metadata": {},
   "source": [
    "# CSC 110, Spring 2020\n",
    "\n",
    "\n",
    "## Assignment #2\n",
    "\n",
    "\n",
    "**Due: Monday, February 3, 2020, 9:00 am (via submission to conneX)**\n"
   ]
  },
  {
   "cell_type": "code",
   "execution_count": null,
   "metadata": {},
   "outputs": [],
   "source": [
    "# Please change the two comment lines below to indicate your name & student number.\n",
    "# Name: Belina Jang\n",
    "# Student #: V00924202"
   ]
  },
  {
   "cell_type": "markdown",
   "metadata": {},
   "source": [
    "### Introduction\n",
    "\n",
    "In this assignment you will write some Python statements within this Jupyter Notebook that are answers to the posed programming questions. By saving what you have written into the notebook, and submitting the resulting IPython file via conneX, the teaching team will be able to evaluate your work.\n",
    "\n",
    "Your are encouraged to create your own notebooks in order to experiment with programming ideas. Once you have solutions that you wish to submit, they can be copy-and-pasted into this notebook. You should, however, always ensure your Python statements do work by evaluating them within this notebook.\n",
    "\n",
    "**This notebook describes part A. Part B is described in another notebook.**"
   ]
  },
  {
   "cell_type": "markdown",
   "metadata": {},
   "source": [
    "### Part A: Roman numerals\n",
    "\n",
    "In the first part of this assignment you will play around with converting some integers into Roman numerals (for more on these go to  https://en.wikipedia.org/wiki/Roman_numerals).\n",
    "\n",
    "Your program will:\n",
    "\n",
    "1. Prompt the user for a one number (integer) from 1 up to and including 20.\n",
    "1. If the number it outside this range (i.e., a negative number, or a number greater than 20), then the program will display an error message and stop.\n",
    "1. Otherwise the program will construct and print the Roman-numeral equivalent of the number provided by the user.\n",
    "\n",
    "The roman numerals from 1 to 10 are:\n",
    "\n",
    "* I, II, III, IV, V, VI, VII, VIII, IX, X\n",
    "\n",
    "and from 11 to 20 are:\n",
    "\n",
    "* XI, XII, XIII, XIV, XV, XVI, XVII, XVIII, XIX, X\n",
    "\n",
    "Notice how the numbers from 11 to 20 are just \"X\" followed by the equivalent roman numerals when the number has ten subtracted from it.\n",
    "\n",
    "Your solution must make use of some combination of **if** statements, **if-else** statements, nested decision structures and **if-elif-else** statements (although you are not strictly required to use every one of the conditional-instruction forms just listed). For those who already know how to use lists and dictionary, you are **not** to use these in your solution.\n",
    "\n",
    "And some further notes on writing a solution:\n",
    "* Better solutions (i.e., ones getting more marks) will avoid answering the question in one big **if-elif-else** having 20 or so blocks.\n",
    "* You can take advantage of using temporary variables of your own choosing, such as subtracting or adding from the value provided by the user.\n",
    "* You can build the resulting Roman number step by step, adding a letter in one conditional statement, adding another letter (or letters) in another conditional statement.\n",
    "* Don't forget that you can use multiplication on strings, e.g., **\"-\" * 3** is the same as **---**.\n",
    "\n",
    "Below is a transcript of a session where the user asks for the roman-numeral equivalent of 18.\n",
    "\n",
    "```\n",
    "What is the number to covert (from 1 to 20)? 18\n",
    "\n",
    "18 in Roman numerals is XVIII\n",
    "```"
   ]
  },
  {
   "cell_type": "code",
   "execution_count": 14,
   "metadata": {},
   "outputs": [
    {
     "name": "stdout",
     "output_type": "stream",
     "text": [
      "What is the number to convert (from 1 to 20)? 18\n",
      "18 in Roman numeral is XVIII\n"
     ]
    }
   ],
   "source": [
    "# Put in solution to Part A here.\n",
    "# Get a number from user\n",
    "\n",
    "num = int(input(\"What is the number to convert (from 1 to 20)? \"))\n",
    "\n",
    "# Make a variable equal to an empty string to use for result\n",
    "roman_numeral = str(num) + \" in Roman numeral is \"\n",
    "\n",
    "# Add \"X\" to the result string to get Roman numerals for number between 11 and 20\n",
    "if num > 10 and num <= 20:\n",
    "    num = num - 10\n",
    "    roman_numeral += \"X\"\n",
    "\n",
    "# Display Error when the number is outside of the range 1-20\n",
    "if num < 1 or num > 20:\n",
    "    print(\"Error\")\n",
    "    \n",
    "# Get Roman numerals for the number in between 1 and 10\n",
    "elif num <= 3:\n",
    "    roman_numeral += \"I\"* (num)\n",
    "elif num <= 8:\n",
    "    roman_numeral += \"I\"*(5-num) + \"V\" + \"I\"*(num-5)\n",
    "else:\n",
    "    roman_numeral += \"I\"*(10-num) + \"X\"\n",
    "\n",
    "# Print the result\n",
    "print(roman_numeral)"
   ]
  },
  {
   "cell_type": "markdown",
   "metadata": {},
   "source": [
    "##### Marks\n",
    "\n",
    "* Part A is worth 5 marks\n",
    "* Part B is worth 5 marks\n",
    "* Total for assignment: 10 marks\n"
   ]
  },
  {
   "cell_type": "markdown",
   "metadata": {},
   "source": [
    "#### Copyright: 2020, Michael Zastre, University of Victoria, Canada"
   ]
  }
 ],
 "metadata": {
  "kernelspec": {
   "display_name": "Python 3",
   "language": "python",
   "name": "python3"
  },
  "language_info": {
   "codemirror_mode": {
    "name": "ipython",
    "version": 3
   },
   "file_extension": ".py",
   "mimetype": "text/x-python",
   "name": "python",
   "nbconvert_exporter": "python",
   "pygments_lexer": "ipython3",
   "version": "3.6.5"
  }
 },
 "nbformat": 4,
 "nbformat_minor": 2
}
