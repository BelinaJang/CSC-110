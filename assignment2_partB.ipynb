{
 "cells": [
  {
   "cell_type": "markdown",
   "metadata": {},
   "source": [
    "# CSC 110, Spring 2020\n",
    "\n",
    "\n",
    "## Assignment #2\n",
    "\n",
    "\n",
    "**Due: Monday, February 3, 2020, 9:00 am (via submission to conneX)**\n"
   ]
  },
  {
   "cell_type": "code",
   "execution_count": null,
   "metadata": {},
   "outputs": [],
   "source": [
    "# Please change the two comment lines below to indicate your name & student number.\n",
    "# Name: Belina Jang\n",
    "# Student #: V00924202"
   ]
  },
  {
   "cell_type": "markdown",
   "metadata": {
    "slideshow": {
     "slide_type": "subslide"
    }
   },
   "source": [
    "### Introduction\n",
    "\n",
    "In this assignment you will write some Python statements within this Jupyter Notebook that are answers to the posed programming questions. By saving what you have written into the notebook, and submitting the resulting IPython file via conneX, the teaching team will be able to evaluate your work.\n",
    "\n",
    "Your are encouraged to create your own notebooks in order to experiment with programming ideas. Once you have solutions that you wish to submit, they can be copy-and-pasted into this notebook. You should, however, always ensure your Python statements do work by evaluating them within this notebook.\n",
    "\n",
    "**This notebook describes part B. Part A is described in another notebook.**"
   ]
  },
  {
   "cell_type": "markdown",
   "metadata": {},
   "source": [
    "### Part B: Weight-loss table\n",
    "\n",
    "According to Alberta Health Services, their ***Nutrition Guideline: Adult Weight Management*** suggest one way to target a 5% to 10% weight loss over six months is to reduce weight about around 0.5 kg to 1 kg per week. One way to achieve this weight-loss rate is to eat 500 to 1000 calories less than current intake. Also assumed here is that the person seeking to lose weight will modify their physical activity and also their behavior. (Here is a link to the posted Nutrition Guideline: https://bit.ly/2RMAG1d).\n",
    "\n",
    "In this part you will obtain from the user a value for their current weight (provided in kilograms). If you then assume they will eat less as described above, and that their weight loss in in the middle of the range (i.e., 0.75 kg lost per week), then print a chart showing the projected weight at each week for 24 weeks. The table should we properly formatted (i.e., column aligned) therefore make good use of the **format()** function. (And remember what you have been taught in class about magic numbers!). And you can assume that any initial weight provided by the user will never be negative.\n",
    "\n",
    "Below is a transcript of a session where the given starting weight is 95 kilograms.\n",
    "\n",
    "```\n",
    "What is the starting weight (in kg)? 95\n",
    "\n",
    "Week   Weight (kg)\n",
    "------------------\n",
    "  1      94.25\n",
    "  2      93.50\n",
    "  3      92.75\n",
    "  4      92.00\n",
    "  5      91.25\n",
    "  6      90.50\n",
    "  7      89.75\n",
    "  8      89.00\n",
    "  9      88.25\n",
    " 10      87.50\n",
    " 11      86.75\n",
    " 12      86.00\n",
    " 13      85.25\n",
    " 14      84.50\n",
    " 15      83.75\n",
    " 16      83.00\n",
    " 17      82.25\n",
    " 18      81.50\n",
    " 19      80.75\n",
    " 20      80.00\n",
    " 21      79.25\n",
    " 22      78.50\n",
    " 23      77.75\n",
    " 24      77.00\n",
    "```\n"
   ]
  },
  {
   "cell_type": "code",
   "execution_count": 2,
   "metadata": {},
   "outputs": [
    {
     "name": "stdout",
     "output_type": "stream",
     "text": [
      "What is the starting weight (in kg)? 95\n",
      "\n",
      "Week\tWeight (kg)\n",
      "------------------\n",
      "  1 \t 94.25\n",
      "  2 \t 93.50\n",
      "  3 \t 92.75\n",
      "  4 \t 92.00\n",
      "  5 \t 91.25\n",
      "  6 \t 90.50\n",
      "  7 \t 89.75\n",
      "  8 \t 89.00\n",
      "  9 \t 88.25\n",
      " 10 \t 87.50\n",
      " 11 \t 86.75\n",
      " 12 \t 86.00\n",
      " 13 \t 85.25\n",
      " 14 \t 84.50\n",
      " 15 \t 83.75\n",
      " 16 \t 83.00\n",
      " 17 \t 82.25\n",
      " 18 \t 81.50\n",
      " 19 \t 80.75\n",
      " 20 \t 80.00\n",
      " 21 \t 79.25\n",
      " 22 \t 78.50\n",
      " 23 \t 77.75\n",
      " 24 \t 77.00\n"
     ]
    }
   ],
   "source": [
    "# Put in solution to Part B here.\n",
    "# Get the starting weight(in kg) from the user\n",
    "weight = float(input(\"What is the starting weight (in kg)? \"))\n",
    "print()\n",
    "print(\"Week\\tWeight (kg)\")\n",
    "print(\"------------------\")\n",
    "# Take away 0.75 from the starting weight 24 times\n",
    "for i in range(24):\n",
    "    weight -= 0.75\n",
    "    # Print the week and the weight each time\n",
    "    print(format(i+1,\"3d\"),\"\\t\",format(weight,\".2f\"))\n"
   ]
  },
  {
   "cell_type": "markdown",
   "metadata": {},
   "source": [
    "##### Marks\n",
    "\n",
    "* Part A is worth 5 marks\n",
    "* Part B is worth 5 marks\n",
    "* Total for assignment: 10 marks\n"
   ]
  },
  {
   "cell_type": "markdown",
   "metadata": {},
   "source": [
    "#### Copyright: 2020, Michael Zastre, University of Victoria, Canada"
   ]
  }
 ],
 "metadata": {
  "kernelspec": {
   "display_name": "Python 3",
   "language": "python",
   "name": "python3"
  },
  "language_info": {
   "codemirror_mode": {
    "name": "ipython",
    "version": 3
   },
   "file_extension": ".py",
   "mimetype": "text/x-python",
   "name": "python",
   "nbconvert_exporter": "python",
   "pygments_lexer": "ipython3",
   "version": "3.6.5"
  }
 },
 "nbformat": 4,
 "nbformat_minor": 2
}
