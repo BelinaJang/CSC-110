{
 "cells": [
  {
   "cell_type": "markdown",
   "metadata": {},
   "source": [
    "# CSC 110, Spring 2020\n",
    "\n",
    "\n",
    "## Assignment #1\n",
    "\n",
    "\n",
    "**Due: Monday, January 20, 9:00 am (via submission to conneX)**\n"
   ]
  },
  {
   "cell_type": "code",
   "execution_count": null,
   "metadata": {},
   "outputs": [],
   "source": [
    "# Please change the two comment lines below to indicate your name & student number.\n",
    "# Name: Belina Jang\n",
    "# Student #: V00924202"
   ]
  },
  {
   "cell_type": "markdown",
   "metadata": {},
   "source": [
    "### Introduction\n",
    "\n",
    "In this assignment you will write some Python statements within this Jupyter Notebook that are answers to the posed programming questions. By saving what you have written into the notebook, and submitting the resulting IPython file via conneX, the teaching team will be able to evaluate your work.\n",
    "\n",
    "Your are encouraged to create your own notebooks in order to experiment with programming ideas. Once you have solutions that you wish to submit, these can be copy-and-pasted into this notebook. You should, however, always ensure your Python statements do work by evaluating them within this notebook.\n",
    "\n",
    "**Do not change the name of this notebook file.**"
   ]
  },
  {
   "cell_type": "markdown",
   "metadata": {},
   "source": [
    "### Part B: Interest calculations\n",
    "\n",
    "Many investments instruments provided by banks, such as Guaranteed Investment Certificates (GICs) pay interest not only on the initial investment (the *principal*) but also on the interest that accumulates over time (*compound* interest).\n",
    "\n",
    "Let us suppose you have been asked by Sam, your friend working at the Happy Coder Credit Union (HCCU), to help clients calculate investment returns on their GICs. That is, clients want to know what their final investment balance will be if they:\n",
    "\n",
    "1. **Purchase a GIC at a specific interest rate**; and then\n",
    "1. **Let their GIC earn compound interest for a certain number of years.**\n",
    "\n",
    "The formula for calculating the balance of such an investment after a specified number of years is as follows:\n",
    "\n",
    "$$A = P (1 + \\frac{r}{n})^{nt}$$\n",
    "\n",
    "where:\n",
    "\n",
    "* $A$ is the amount of money in the account after the specific number of years.\n",
    "* $P$ is the principal amount that was originally deposited into the account.\n",
    "* $r$ is the **annual** interest rate.\n",
    "* $n$ is the number of times per year that the interest is compounded\n",
    "* $t$ is the specific number of years.\n",
    "\n",
    "Write a program that makes the calculation for you. The program should ask the user to input the following:\n",
    "\n",
    "1. The amount of principal originally deposited into the GIC\n",
    "1. The annual interest rate paid by the GIC\n",
    "1. The number of times per year that interest is compounded (e.g., if interest is compounded monthly, enter 12; if interest is compounded quarterly, enter 4)\n",
    "1. The number of years the GIC will be left to earn investment interest\n",
    "\n",
    "Once the input data has been entered, the program must calculate and display the amount of money that will be in the account after the specific number of years. **The user must enter the interest rate as a percentage, but without the '%' sign. That is, 2% would be entered as 2 and not as 0.02. Therefore your program will have to divide the input by 100 to move the decimal point to the correct position.** The value that is output must be printed with two decimal points; during lectures I will give some description of how output can be formatted in this way.\n"
   ]
  },
  {
   "cell_type": "code",
   "execution_count": 20,
   "metadata": {},
   "outputs": [
    {
     "name": "stdout",
     "output_type": "stream",
     "text": [
      "What is the amount of principal originally deposited into the GIC? 9\n",
      "What is the annual interest rate paid by the GIC? 8\n",
      "What is the number of times per year that interest is compounded? 7\n",
      "What is the number of years the GIC will be left to earn investment interest? 6\n",
      "The final value of the investment is  14.51\n"
     ]
    }
   ],
   "source": [
    "# Code for Part B is appear in this notebook cell.\n",
    "# getting inputs for the caculation \n",
    "P = float(input(\"What is the amount of principal originally deposited into the GIC? \")) \n",
    "r = float(input(\"What is the annual interest rate paid by the GIC? \"))\n",
    "r = r/100\n",
    "n = float(input(\"What is the number of times per year that interest is compounded? \")) \n",
    "t = float(input(\"What is the number of years the GIC will be left to earn investment interest? \"))\n",
    "# calculating the amount of money that will be in the account after the specific number of years \n",
    "# A is the amount of money in the account after the specific number of years. \n",
    "A = (P * (1 + r / n)**(n * t))\n",
    "print(\"The final value of the investment is \", format(A ,\".2f\"))"
   ]
  },
  {
   "cell_type": "markdown",
   "metadata": {},
   "source": [
    "## Marks\n",
    "\n",
    "* Part A is worth 4 marks\n",
    "* Part B is worth 6 marks\n"
   ]
  },
  {
   "cell_type": "markdown",
   "metadata": {},
   "source": [
    "Copyright: 2020, Michael Zastre, University of Victoria, Canada"
   ]
  }
 ],
 "metadata": {
  "kernelspec": {
   "display_name": "Python 3",
   "language": "python",
   "name": "python3"
  },
  "language_info": {
   "codemirror_mode": {
    "name": "ipython",
    "version": 3
   },
   "file_extension": ".py",
   "mimetype": "text/x-python",
   "name": "python",
   "nbconvert_exporter": "python",
   "pygments_lexer": "ipython3",
   "version": "3.6.5"
  }
 },
 "nbformat": 4,
 "nbformat_minor": 2
}
