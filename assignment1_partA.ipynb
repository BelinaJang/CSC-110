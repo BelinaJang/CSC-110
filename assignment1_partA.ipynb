{
 "cells": [
  {
   "cell_type": "markdown",
   "metadata": {},
   "source": [
    "# CSC 110, Spring 2020\n",
    "\n",
    "\n",
    "## Assignment #1\n",
    "\n",
    "### Part A\n",
    "\n",
    "\n",
    "**Due: Monday, January 20, 2020, 9:00 am (via submission to conneX)**\n"
   ]
  },
  {
   "cell_type": "code",
   "execution_count": null,
   "metadata": {},
   "outputs": [],
   "source": [
    "# Please change the two comment lines below to indicate your name & student #.\n",
    "# Name: Belina Jang\n",
    "# Student #: V00924202"
   ]
  },
  {
   "cell_type": "markdown",
   "metadata": {},
   "source": [
    "### Introduction\n",
    "\n",
    "In this assignment you will write some Python statements within this Jupyter Notebook that are answers to the posed programming questions. By saving what you have written into the notebook, and submitting the resulting IPython file via conneX, the teaching team will be able to evaluate your work.\n",
    "\n",
    "Your are encouraged to create your own notebooks in order to experiment with programming ideas. Once you have solutions that you wish to submit, these can be copy-and-pasted into this notebook. You should, however, always ensure your Python statements do work by evaluating them within this notebook.\n",
    "\n",
    "**Do not change the name of this notebook file.**"
   ]
  },
  {
   "cell_type": "markdown",
   "metadata": {},
   "source": [
    "### Dimensions of a strange ruined abbey\n",
    "\n",
    "In this fanciful exercise, you are part of an archaelogical team that is working some fictional location in the north of Italy. The team has been asked to survey the ruin of the Abbey of St. Quidestnegoti. You have been given a diagram showing the layout of perimeter of the original building that corresponds to the complex:\n",
    "\n",
    "<img src=\"https://github.com/zastre/uvic/blob/master/saint_quidestnegoti.png?raw=true\" width=\"300\">\n",
    "\n",
    "You are asked to compute the inside area of the building plan (i.e., the total area within the walls). In order to do this, you will write a bit of Python code. Since you need accurate measurements, here is the previous diagram but with lengths shown in metres:\n",
    "\n",
    "<img src=\"https://github.com/zastre/uvic/blob/master/saint_quidestnegoti_all.png?raw=true\" width=\"600\">\n",
    "\n",
    "Here are a few further observations:\n",
    "* The walls around `B` and `C` are semicircles.\n",
    "* The outside area `D` has the shape of a triangle.\n",
    "* The area of the very narrow corridor labelled `E` is considered part of the complete abbey's area; it connects the large area `A` with the smaller area `F`.\n",
    "\n",
    "Your task is to:\n",
    "* Compute the values of areas `B` and `C`, storing them in appropriately-name variables.\n",
    "* Compute the values of area `D`, storing it in an appropriately-named variable.\n",
    "* Compute the value of areas `E` and `F`, storing them in appropriately-named variables.\n",
    "* Compute any other values needed to computed the area of the complete structure (i.e., everything within the walls).\n",
    "* Print this combined-area value on the console (i.e., just the number).\n",
    "\n",
    "The formula for the circumference of a circle is $\\pi d$, for the area of a circle is $\\pi r^2$ and for the area of a triangle is $\\frac{1}{2}bh$. (You should know how to compute the area of a rectangle or of a square.) For the value of $\\pi$ you may use ```3.14159```.\n"
   ]
  },
  {
   "cell_type": "code",
   "execution_count": 2,
   "metadata": {},
   "outputs": [
    {
     "name": "stdout",
     "output_type": "stream",
     "text": [
      "256.33734375\n"
     ]
    }
   ],
   "source": [
    "# Code for Part A is appear in this notebook cell.\n",
    "# set pi value\n",
    "pi = 3.14159\n",
    "\n",
    "# compute the values of areas B and C\n",
    "area_B = pi * (5/2)**2 /2\n",
    "area_C = pi * (10/2)**2 /2\n",
    "area_B_n_C = area_B + area_C\n",
    "\n",
    "# compute the values of area D\n",
    "area_D = 1/2 * 10 * 3.75\n",
    "\n",
    "# compute the values of area E and F\n",
    "area_E = 10 * 1.25\n",
    "area_F = 5 * 2.5\n",
    "area_E_n_F = area_E + area_F\n",
    "\n",
    "# compute the value of area A\n",
    "base_E = 10\n",
    "base_F = 2.5\n",
    "base_A = 32.6 - base_E - base_F\n",
    "height_A = 10\n",
    "area_A = base_A * height_A - area_D\n",
    "\n",
    "# compute the total area\n",
    "total_area = area_B_n_C + area_E_n_F + area_A\n",
    "\n",
    "print(total_area)"
   ]
  },
  {
   "cell_type": "markdown",
   "metadata": {},
   "source": [
    "### Marks\n",
    "\n",
    "* Part A is worth 4 marks\n",
    "* Part B is worth 6 marks\n"
   ]
  },
  {
   "cell_type": "markdown",
   "metadata": {},
   "source": [
    "Copyright 2020 Mike Zastre, University of Victoria"
   ]
  }
 ],
 "metadata": {
  "kernelspec": {
   "display_name": "Python 3",
   "language": "python",
   "name": "python3"
  },
  "language_info": {
   "codemirror_mode": {
    "name": "ipython",
    "version": 3
   },
   "file_extension": ".py",
   "mimetype": "text/x-python",
   "name": "python",
   "nbconvert_exporter": "python",
   "pygments_lexer": "ipython3",
   "version": "3.6.5"
  }
 },
 "nbformat": 4,
 "nbformat_minor": 2
}
