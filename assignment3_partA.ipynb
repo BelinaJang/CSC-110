{
 "cells": [
  {
   "cell_type": "markdown",
   "metadata": {},
   "source": [
    "# CSC 110, Spring 2020\n",
    "\n",
    "\n",
    "## Assignment 3\n",
    "\n",
    "\n",
    "**Due: Monday, February 24, 2020, 9:00 am (via submission to conneX)**\n"
   ]
  },
  {
   "cell_type": "code",
   "execution_count": null,
   "metadata": {},
   "outputs": [],
   "source": [
    "# Please change the two comment lines below to indicate your name & student number.\n",
    "# Name: Belina Jang\n",
    "# Student #: V00924202"
   ]
  },
  {
   "cell_type": "markdown",
   "metadata": {},
   "source": [
    "### Introduction\n",
    "\n",
    "In this assignment you will write some Python statements within this Jupyter Notebook that are answers to the posed programming questions. By saving what you have written into the notebook, and submitting the resulting IPython file via conneX, the teaching team will be able to evaluate your work.\n",
    "\n",
    "You are encouraged to create your own notebooks in order to experiment with programming ideas. Once you have solutions that you wish to submit, they can be copy-and-pasted into this notebook. You should, however, always ensure your Python statements do work by evaluating them within this notebook.\n",
    "\n",
    "**This notebook describes Part A. Part B is in another notebook.**"
   ]
  },
  {
   "cell_type": "markdown",
   "metadata": {},
   "source": [
    "<div class=\"alert alert-block alert-danger\">\n",
    "    <b>Important:</b> All functions which the assignment requires you to complete must <b>exactly match</b> the following:\n",
    "    <ul>\n",
    "        <li> the spelling of the function's name,</li>\n",
    "        <li> the number of required function parameters,</li>\n",
    "        <li> and whether or not a value must be returned.</li>\n",
    "    </ul>\n",
    "    <p>Unless otherwise required by the assignment's description, functions are not to perform output (i.e., are not to make calls <code>print()</code>).</p>\n",
    "</div>"
   ]
  },
  {
   "cell_type": "markdown",
   "metadata": {},
   "source": [
    "### Part A: Some comparators\n",
    "\n",
    "We often need to determine quickly whether or not some values are the same, or are different, or are in sorted order. For this first part of the assignment, you will write several functions to answer this when we have three values. **Please note that none of these functions is permitted to print**, that is, the only effect had by the *black box* of the functions is to return the value of `True` or `False`.\n",
    "\n",
    "1. `in_order(a, b, c)` will return `True` if  `a` comes before `b` in numeric order, and `b` comes before `c` in numeric order; otherwise `False` is returned. For example: `in_order(4, 10, 12)` would return `True`; `in_order(4, 12, 10)` would return `False`; `inorder(4, 4, 4)` would return `False`.\n",
    "\n",
    "1. `all_equiv(a, b, c)` will return `True` if `a`, `b`, and `c` are all the same integer value; otherwise `False` is returned. For example, `all_equiv(4, 10, 12)` would return `False`; `all_equiv(4, 12, 10)` would return `False`; `all_equiv(4, 4, 4)` would return `True`.\n",
    "\n",
    "1. `all_other(a, b, c)` will return `True` if `a`, `b`, and `c` are different integer values; otherwise `False` is returned. For example, `all_other(4, 10, 12)` would return `True`; `all_other(4, 12, 10)` would return `True`; `all_other(4, 4, 4)` would return `False`.\n",
    "\n",
    "And please note that your function must work for integer values other than those given above as examples!\n",
    "\n",
    "For all functions you may assume that only integers (either integer literals or variables referring to a integer) will be given as arguments. Please write a `main()` function that will test your work.\n",
    "\n",
    "Some starter code for `in_order` and `main` has been provided to you. You must change and add to all of this in order to complete the assignment.\n",
    "\n",
    "**In your solution you are not permitted to add any additional functions to the three required.**"
   ]
  },
  {
   "cell_type": "code",
   "execution_count": 3,
   "metadata": {},
   "outputs": [
    {
     "name": "stdout",
     "output_type": "stream",
     "text": [
      "in_order(4, 10, 12): passes?  True\n",
      "all_equiv(4, 10, 12): passes?  False\n",
      "all_other(4, 10, 12): passes?  True\n"
     ]
    }
   ],
   "source": [
    "# Starter code for students. What is in thie code cell may be changed.\n",
    "\n",
    "def in_order(a, b, c):\n",
    "    # return True when a < b < c, and return False otherwise\n",
    "    return a < b < c\n",
    "\n",
    "\n",
    "def main():\n",
    "    # print results from the tests\n",
    "    print(\"in_order(4, 10, 12): passes? \", in_order(4, 10, 12))\n",
    "    print(\"all_equiv(4, 10, 12): passes? \", all_equiv(4, 10, 12))\n",
    "    print(\"all_other(4, 10, 12): passes? \", all_other(4, 10, 12))    \n",
    "    \n",
    "\n",
    "###\n",
    "# STUDENT'S CODE MUST APPEAR BETWEEN THIS COMMENT...\n",
    "\n",
    "def all_equiv(a, b, c):\n",
    "    #return True when a==b==c, return False otherwise\n",
    "    return a == b == c\n",
    "\n",
    "def all_other(a, b, c):\n",
    "    # return True when they are all different, and return False otherwise\n",
    "    return a != b and b != c and a!= c\n",
    "\n",
    "\n",
    "# AND THIS COMMENT\n",
    "###\n",
    "\n",
    "\n",
    "# STUDENTS MAY CHANGE CODE IN THE main() FUNCTION\n",
    "# DEFINITION ABOVE AS PART OF THEIR OWN TESTING.\n",
    "\n",
    "\n",
    "main()"
   ]
  },
  {
   "cell_type": "markdown",
   "metadata": {},
   "source": [
    "## Marks\n",
    "\n",
    "* Part A is worth 3 marks\n",
    "* Part B is worth 7 marks\n",
    "* Total for assignment: 10 marks\n"
   ]
  },
  {
   "cell_type": "markdown",
   "metadata": {},
   "source": [
    "Copyright: 2020, Michael Zastre, University of Victoria, Canada"
   ]
  }
 ],
 "metadata": {
  "kernelspec": {
   "display_name": "Python 3",
   "language": "python",
   "name": "python3"
  },
  "language_info": {
   "codemirror_mode": {
    "name": "ipython",
    "version": 3
   },
   "file_extension": ".py",
   "mimetype": "text/x-python",
   "name": "python",
   "nbconvert_exporter": "python",
   "pygments_lexer": "ipython3",
   "version": "3.6.5"
  }
 },
 "nbformat": 4,
 "nbformat_minor": 2
}
